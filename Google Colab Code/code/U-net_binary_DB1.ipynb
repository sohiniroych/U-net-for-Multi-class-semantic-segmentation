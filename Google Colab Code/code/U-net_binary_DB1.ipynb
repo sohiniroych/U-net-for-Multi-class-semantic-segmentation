{
 "cells": [
  {
   "cell_type": "markdown",
   "metadata": {},
   "source": [
    "# This code implements segmentation of pathological regions from retinal images using a U-net model with depth 4 and tensorflow 2.x versions.\n",
    "\n",
    "## This code implements binary classification\n",
    "## This model is adapted from the original codebase in https://github.com/HZCTony/U-net-with-multiple-classification"
   ]
  },
  {
   "cell_type": "code",
   "execution_count": 1,
   "metadata": {},
   "outputs": [],
   "source": [
    "#This code snippet helps if your computer has RTX 2070 GPU. If not then comment this cell.\n",
    "from tensorflow.compat.v1 import ConfigProto\n",
    "from tensorflow.compat.v1 import InteractiveSession\n",
    "\n",
    "config = ConfigProto()\n",
    "config.gpu_options.allow_growth = True\n",
    "session = InteractiveSession(config=config)"
   ]
  },
  {
   "cell_type": "markdown",
   "metadata": {},
   "source": [
    "# A. Lets start by stepwise defining all libraries and functions needed to generate the model and pre-process the data"
   ]
  },
  {
   "cell_type": "code",
   "execution_count": 2,
   "metadata": {},
   "outputs": [],
   "source": [
    "#Step 1: Load libraries for the U-net Model\n",
    "import numpy as np \n",
    "import os\n",
    "import skimage.io as io\n",
    "import skimage.transform as trans\n",
    "import numpy as np\n",
    "from tensorflow.keras.models import *\n",
    "from tensorflow.keras.layers import *\n",
    "from tensorflow.keras.optimizers import *\n",
    "from tensorflow.keras.callbacks import ModelCheckpoint, LearningRateScheduler\n",
    "from tensorflow.keras import backend as keras\n",
    "#from tensorflow import keras\n",
    "import tensorflow as tf"
   ]
  },
  {
   "cell_type": "code",
   "execution_count": 3,
   "metadata": {},
   "outputs": [],
   "source": [
    "img_size=(256,256)\n",
    "\n",
    "def dice_coef(y_true, y_pred, smooth=1):\n",
    "    intersection = keras.sum(y_true * y_pred, axis=[1,2,3])\n",
    "    union = keras.sum(y_true, axis=[1,2,3]) + keras.sum(y_pred, axis=[1,2,3])\n",
    "    return keras.mean( (2. * intersection + smooth) / (union + smooth), axis=0)\n",
    "\n",
    "def dice_coef_loss(y_true, y_pred):\n",
    "    return -dice_coef(y_true, y_pred)"
   ]
  },
  {
   "cell_type": "code",
   "execution_count": 4,
   "metadata": {},
   "outputs": [],
   "source": [
    "#Step 2: Define the U-net model with Depth=4\n",
    "def unet(pretrained_weights = None,input_size = (256,256,1)):\n",
    "    inputs = tf.keras.Input(shape=input_size)\n",
    "    conv1 = Conv2D(64, 3, activation = 'relu', padding = 'same', kernel_initializer = 'he_normal')(inputs)\n",
    "    conv1 = BatchNormalization()(conv1)\n",
    "    conv1 = Conv2D(64, 3, activation = 'relu', padding = 'same', kernel_initializer = 'he_normal')(conv1)\n",
    "    conv1 = BatchNormalization()(conv1)\n",
    "    pool1 = MaxPooling2D(pool_size=(2, 2))(conv1)\n",
    "    conv2 = Conv2D(128, 3, activation = 'relu', padding = 'same', kernel_initializer = 'he_normal')(pool1)\n",
    "    conv2 = BatchNormalization()(conv2)\n",
    "    conv2 = Conv2D(128, 3, activation = 'relu', padding = 'same', kernel_initializer = 'he_normal')(conv2)\n",
    "    conv2 = BatchNormalization()(conv2)\n",
    "    pool2 = MaxPooling2D(pool_size=(2, 2))(conv2)\n",
    "    conv3 = Conv2D(256, 3, activation = 'relu', padding = 'same', kernel_initializer = 'he_normal')(pool2)\n",
    "    conv3 = BatchNormalization()(conv3)\n",
    "    conv3 = Conv2D(256, 3, activation = 'relu', padding = 'same', kernel_initializer = 'he_normal')(conv3)\n",
    "    conv3 = BatchNormalization()(conv3)\n",
    "    pool3 = MaxPooling2D(pool_size=(2, 2))(conv3)\n",
    "    conv4 = Conv2D(512, 3, activation = 'relu', padding = 'same', kernel_initializer = 'he_normal')(pool3)\n",
    "    conv4 = BatchNormalization()(conv4)\n",
    "    conv4 = Conv2D(512, 3, activation = 'relu', padding = 'same', kernel_initializer = 'he_normal')(conv4)\n",
    "    conv4 = BatchNormalization()(conv4)\n",
    "    drop4 = Dropout(0.5)(conv4, training=True)\n",
    "    pool4 = MaxPooling2D(pool_size=(2, 2))(drop4)\n",
    "\n",
    "    conv5 = Conv2D(1024, 3, activation = 'relu', padding = 'same', kernel_initializer = 'he_normal')(pool4)\n",
    "    conv5 = BatchNormalization()(conv5)\n",
    "    conv5 = Conv2D(1024, 3, activation = 'relu', padding = 'same', kernel_initializer = 'he_normal')(conv5)\n",
    "    conv5 = BatchNormalization()(conv5)\n",
    "    drop5 = Dropout(0.5)(conv5, training=True)\n",
    "\n",
    "    up6 = Conv2D(512, 2, activation = 'relu', padding = 'same', kernel_initializer = 'he_normal')(UpSampling2D(size = (2,2))(drop5))\n",
    "    merge6 = concatenate([drop4,up6], axis = 3)\n",
    "    conv6 = Conv2D(512, 3, activation = 'relu', padding = 'same', kernel_initializer = 'he_normal')(merge6)\n",
    "    conv6 = Conv2D(512, 3, activation = 'relu', padding = 'same', kernel_initializer = 'he_normal')(conv6)\n",
    "    \n",
    "\n",
    "    up7 = Conv2D(256, 2, activation = 'relu', padding = 'same', kernel_initializer = 'he_normal')(UpSampling2D(size = (2,2))(conv6))\n",
    "    merge7 = concatenate([conv3,up7], axis = 3)\n",
    "    conv7 = Conv2D(256, 3, activation = 'relu', padding = 'same', kernel_initializer = 'he_normal')(merge7)\n",
    "    conv7 = Conv2D(256, 3, activation = 'relu', padding = 'same', kernel_initializer = 'he_normal')(conv7)\n",
    "    \n",
    "\n",
    "    up8 = Conv2D(128, 2, activation = 'relu', padding = 'same', kernel_initializer = 'he_normal')(UpSampling2D(size = (2,2))(conv7))\n",
    "    merge8 = concatenate([conv2,up8], axis = 3)\n",
    "    conv8 = Conv2D(128, 3, activation = 'relu', padding = 'same', kernel_initializer = 'he_normal')(merge8)\n",
    "    conv8 = Conv2D(128, 3, activation = 'relu', padding = 'same', kernel_initializer = 'he_normal')(conv8)\n",
    "    \n",
    "\n",
    "    up9 = Conv2D(64, 2, activation = 'relu', padding = 'same', kernel_initializer = 'he_normal')(UpSampling2D(size = (2,2))(conv8))\n",
    "    merge9 = concatenate([conv1,up9], axis = 3)\n",
    "    conv9 = Conv2D(64, 3, activation = 'relu', padding = 'same', kernel_initializer = 'he_normal')(merge9)\n",
    "    conv9 = Conv2D(64, 3, activation = 'relu', padding = 'same', kernel_initializer = 'he_normal')(conv9)\n",
    "    #conv9 = Conv2D(2, 3, activation = 'relu', padding = 'same', kernel_initializer = 'he_normal')(conv9)\n",
    "   \n",
    "    conv10 = Conv2D(1, 1, activation = 'sigmoid')(conv9)\n",
    "\n",
    "    model = tf.keras.Model(inputs = inputs, outputs = conv10)\n",
    "\n",
    "    model.compile(optimizer = Adam(lr = 0.0001), loss = dice_coef_loss, metrics = dice_coef)\n",
    "    \n",
    "\n",
    "    if(pretrained_weights):\n",
    "    \tmodel=keras.models.load_model(pretrained_weights)\n",
    "\n",
    "    return model"
   ]
  },
  {
   "cell_type": "code",
   "execution_count": 5,
   "metadata": {},
   "outputs": [],
   "source": [
    "n_class=2\n",
    "#Hamorrhages vs background"
   ]
  },
  {
   "cell_type": "code",
   "execution_count": 6,
   "metadata": {},
   "outputs": [],
   "source": [
    "#Step 3:Define functions for pre-processing data\n",
    "from tensorflow.keras.preprocessing.image import ImageDataGenerator\n",
    "import skimage.io as io\n",
    "import skimage.transform as trans\n",
    "import matplotlib.pyplot as plt\n",
    "import scipy.misc as sc\n",
    "\n",
    "\n",
    "def adjustData(img,mask,flag_multi_class,n_class):\n",
    "    \n",
    "    if(flag_multi_class):\n",
    "        img /= 255\n",
    "        mask = mask[:,:,:,0] if(len(mask.shape) == 4) else mask[:,:,0]\n",
    "        new_mask = np.zeros(mask.shape + (n_class,))\n",
    "        for i in range(n_class):\n",
    "            \n",
    "            new_mask[mask == i,i] = 1\n",
    "        new_mask = np.reshape(new_mask,(new_mask.shape[0],new_mask.shape[1]*new_mask.shape[2],new_mask.shape[3])) if flag_multi_class else np.reshape(new_mask,(new_mask.shape[0]*new_mask.shape[1],new_mask.shape[2]))\n",
    "        mask = new_mask\n",
    "    elif(np.max(img)>1):\n",
    "        img = img / 255\n",
    "        mask = mask /255\n",
    "    mask[mask > 0.1] = 1\n",
    "    mask[mask <= 0.1] = 0\n",
    "        #print(np.shape(mask),np.shape(img))\n",
    "    return (img,mask)\n",
    "\n",
    "\n",
    "\n",
    "def trainGenerator(batch_size,train_path,image_folder,mask_folder,aug_dict,image_color_mode = \"grayscale\",\n",
    "                    mask_color_mode = \"grayscale\",image_save_prefix  = \"image\",mask_save_prefix  = \"mask\",\n",
    "                    flag_multi_class = False,n_class = n_class,save_to_dir = None,target_size = img_size,seed = 1):\n",
    "    '''\n",
    "    can generate image and mask at the same time\n",
    "    use the same seed for image_datagen and mask_datagen to ensure the transformation for image and mask is the same\n",
    "    if you want to visualize the results of generator, set save_to_dir = \"your path\"\n",
    "    '''\n",
    "    image_datagen = ImageDataGenerator(**aug_dict)\n",
    "    mask_datagen = ImageDataGenerator(**aug_dict)\n",
    "    image_generator = image_datagen.flow_from_directory(\n",
    "        #'./',\n",
    "        train_path,\n",
    "        classes = [image_folder],\n",
    "        color_mode = image_color_mode,\n",
    "        target_size = target_size,\n",
    "        batch_size = batch_size,\n",
    "        save_to_dir = save_to_dir,\n",
    "        save_prefix  = image_save_prefix,\n",
    "        class_mode=None,\n",
    "        seed = seed)\n",
    "    mask_generator = mask_datagen.flow_from_directory(\n",
    "        train_path,\n",
    "        classes = [mask_folder],\n",
    "        color_mode = mask_color_mode,\n",
    "        target_size = target_size,\n",
    "        batch_size = batch_size,\n",
    "        save_to_dir = save_to_dir,\n",
    "        save_prefix  = mask_save_prefix,\n",
    "        class_mode=None,\n",
    "        seed = seed)\n",
    "    train_generator = zip(image_generator, mask_generator)\n",
    "    for (img,mask) in train_generator:\n",
    "        img,mask = adjustData(img,mask,flag_multi_class,n_class)\n",
    "        yield (img,mask)\n",
    "\n",
    "\n",
    "def testGenerator(test_path,target_size = img_size,flag_multi_class = True,as_gray = True):\n",
    "    files=sorted(os.listdir(test_path))\n",
    "    num_image=len(files)\n",
    "    for i in range(num_image):\n",
    "        img = io.imread(os.path.join(test_path,files[i]),as_gray = as_gray)\n",
    "        print(files[i])\n",
    "        img = trans.resize(img,target_size)\n",
    "        img = np.reshape(img,img.shape+(1,)) if (not flag_multi_class) else img\n",
    "        img = np.reshape(img,(1,)+img.shape)\n",
    "        #print(np.max(img))\n",
    "        yield img"
   ]
  },
  {
   "cell_type": "code",
   "execution_count": 7,
   "metadata": {},
   "outputs": [],
   "source": [
    "#Step 4: Define function to save the test images\n",
    "def labelVisualize(num_class,color_dict,img):\n",
    "    img = img[:,:,0] if len(img.shape) == 3 else img\n",
    "    img_out = np.zeros(img.shape + (3,))\n",
    "    for i in range(num_class):\n",
    "        img_out[img == i] = color_dict[i]\n",
    "      \n",
    "    return img_out\n",
    "\n",
    "\n",
    "def saveResult(img_path,save_path,npyfile,flag_multi_class = False,num_class = 2):\n",
    "    files=os.listdir(img_path)\n",
    "    #print(len(img_path))\n",
    "    #print(len(npyfile))\n",
    "    \n",
    "    for i,item in enumerate(npyfile):\n",
    "        img = labelVisualize(num_class,COLOR_DICT,item) if flag_multi_class else item[:,:,0]\n",
    "        #img1=np.array(((img - np.min(img))/np.ptp(img))>0.6).astype(float)\n",
    "        img[img>0.5]=1\n",
    "        img[img<=0.5]=0\n",
    "        io.imsave(os.path.join(save_path, files[i]),img)\n",
    "        \n",
    "        \n",
    "        \n",
    "def SaveResultwImage(img_path,save_path,npyfile,target_size=img_size,flag_multi_class = False,num_class = 2):\n",
    "    files=os.listdir(img_path)\n",
    "    #print(len(img_path))\n",
    "    #print(len(npyfile))\n",
    "    \n",
    "    for i,item in enumerate(npyfile):\n",
    "        img = labelVisualize(num_class,COLOR_DICT,item) if flag_multi_class else item[:,:,0]\n",
    "        #img1=np.array(((img - np.min(img))/np.ptp(img))>0.6).astype(float)\n",
    "        img[img>0.5]=1\n",
    "        img[img<=0.5]=0\n",
    "        \n",
    "        I = io.imread(os.path.join(img_path,files[i]))\n",
    "        I = trans.resize(I,target_size)\n",
    "        I[:,:,0]=np.true_divide((I[:,:,0]+img),2)\n",
    "        io.imsave(os.path.join(save_path, files[i]),I)        "
   ]
  },
  {
   "cell_type": "code",
   "execution_count": 8,
   "metadata": {},
   "outputs": [],
   "source": [
    "#Step 5: Define functions to evaluate the output\n",
    "import sklearn.metrics as sm\n",
    "\n",
    "def get_confusion_matrix_elements(groundtruth_list, predicted_list):\n",
    "    \"\"\"returns confusion matrix elements i.e TN, FP, FN, TP as floats\n",
    "\tSee example code for helper function definitions\n",
    "    \"\"\"\n",
    "    tn, fp, fn, tp = sm.confusion_matrix(groundtruth_list, predicted_list,labels=[0,1]).ravel()\n",
    "    tn, fp, fn, tp = np.float64(tn), np.float64(fp), np.float64(fn), np.float64(tp)\n",
    "\n",
    "    return tn, fp, fn, tp\n",
    "\n",
    "def get_prec_rec_IoU_accuracy(groundtruth_list, predicted_list):\n",
    "    \"\"\"returns precision, recall, IoU and accuracy metrics\n",
    "\t\"\"\"\n",
    "    tn, fp, fn, tp = get_confusion_matrix_elements(groundtruth_list, predicted_list)\n",
    "    \n",
    "    total = tp + fp + fn + tn\n",
    "    accuracy = (tp + tn) / total\n",
    "    prec=tp/(tp+fp)\n",
    "    rec=tp/(tp+fn)\n",
    "    IoU=tp/(tp+fp+fn)\n",
    "    \n",
    "    return prec,rec,IoU,accuracy\n",
    "\n",
    "def get_f1_score(groundtruth_list, predicted_list):\n",
    "    \"\"\"Return f1 score covering edge cases\"\"\"\n",
    "\n",
    "    tn, fp, fn, tp = get_confusion_matrix_elements(groundtruth_list, predicted_list)\n",
    "    \n",
    "    f1_score = (2 * tp) / ((2 * tp) + fp + fn)\n",
    "\n",
    "    return f1_score\n",
    "\n",
    "def get_validation_metrics(groundtruth,predicted):\n",
    "    \"\"\"Return all output metrics. Input is binary images\"\"\"\n",
    "   \n",
    "    u,v=np.shape(groundtruth)\n",
    "    groundtruth_list=np.reshape(groundtruth,(u*v,))\n",
    "    predicted_list=np.reshape(predicted,(u*v,))\n",
    "    prec,rec,IoU,acc=get_prec_rec_IoU_accuracy(groundtruth_list, predicted_list)\n",
    "    f1_score=get_f1_score(groundtruth_list, predicted_list)\n",
    "   # print(\"Precision=\",prec, \"Recall=\",rec, \"IoU=\",IoU, \"acc=\",acc, \"F1=\",f1_score)\n",
    "    return prec,rec,IoU,acc,f1_score\n",
    "\n",
    "def evalResult(gth_path,npyfile,target_size=img_size,flag_multi_class = False,num_class = 2):\n",
    "    files=sorted(os.listdir(gth_path))\n",
    "    #print(files)\n",
    "    prec=0\n",
    "    rec=0\n",
    "    acc=0\n",
    "    IoU=0\n",
    "    f1_score=0\n",
    "    for i,item in enumerate(npyfile):\n",
    "        img = item[:,:,0]\n",
    "        gth = io.imread(os.path.join(gth_path,files[i]))\n",
    "        gth = trans.resize(gth,target_size)\n",
    "        if(np.sum(img)>0):\n",
    "            img1=np.array(((img - np.min(img))/np.ptp(img))>0.1).astype(float)\n",
    "        if(np.sum(gth)>0):\n",
    "            gth1=np.array(((gth - np.min(gth))/np.ptp(gth))>0.1).astype(float)\n",
    "            gth1=(gth1>0.1).astype(int)\n",
    "        p,r,I,a,f=get_validation_metrics(gth1,img1)\n",
    "        prec=prec+p\n",
    "        rec=rec+r\n",
    "        acc=acc+a\n",
    "        IoU=IoU+I\n",
    "        f1_score=f1_score+f\n",
    "    print(\"Precision=\",prec/(i+1), \"Recall=\",rec/(i+1), \"IoU=\",IoU/(i+1), \"acc=\",acc/(i+1), \"F1=\",f1_score/(i+1))    "
   ]
  },
  {
   "cell_type": "markdown",
   "metadata": {},
   "source": [
    "# All definitions are now done! Lets start using the functions now...\n",
    "# B. Call to image data generator, model initialization, followed by model fitting."
   ]
  },
  {
   "cell_type": "code",
   "execution_count": 9,
   "metadata": {},
   "outputs": [],
   "source": [
    "#Step 1: Call to image data generator in keras\n",
    "data_gen_args = dict(rotation_range=0.3,\n",
    "                    width_shift_range=0.1,\n",
    "                    height_shift_range=0.1,\n",
    "                    shear_range=0.1,\n",
    "                    zoom_range=[0.7,1],\n",
    "                    horizontal_flip=True,\n",
    "                    fill_mode='nearest')\n",
    "PATH='./train/'"
   ]
  },
  {
   "cell_type": "code",
   "execution_count": 10,
   "metadata": {},
   "outputs": [],
   "source": [
    "if not os.path.exists(PATH+'aug_bin'):\n",
    "    os.makedirs(PATH+'aug_bin')\n",
    "    \n",
    "if not os.path.exists(PATH+'pred'):\n",
    "    os.makedirs(PATH+'pred')    \n"
   ]
  },
  {
   "cell_type": "code",
   "execution_count": 11,
   "metadata": {},
   "outputs": [],
   "source": [
    "data_gen = trainGenerator(3,PATH,'images','GT',data_gen_args, save_to_dir = None)"
   ]
  },
  {
   "cell_type": "code",
   "execution_count": 12,
   "metadata": {},
   "outputs": [
    {
     "name": "stdout",
     "output_type": "stream",
     "text": [
      "Epoch 0\n",
      "Found 27 images belonging to 1 classes.\n",
      "Found 27 images belonging to 1 classes.\n"
     ]
    },
    {
     "data": {
      "image/png": "[encoded data removed]",
      "text/plain": [
       "<Figure size 432x288 with 2 Axes>"
      ]
     },
     "metadata": {
      "needs_background": "light"
     },
     "output_type": "display_data"
    },
    {
     "name": "stdout",
     "output_type": "stream",
     "text": [
      "Epoch 1\n"
     ]
    },
    {
     "data": {
      "image/png": "[encoded data removed]",
      "text/plain": [
       "<Figure size 432x288 with 2 Axes>"
      ]
     },
     "metadata": {
      "needs_background": "light"
     },
     "output_type": "display_data"
    },
    {
     "name": "stdout",
     "output_type": "stream",
     "text": [
      "Epoch 2\n"
     ]
    },
    {
     "data": {
      "image/png": "[encoded data removed]",
      "text/plain": [
       "<Figure size 432x288 with 2 Axes>"
      ]
     },
     "metadata": {
      "needs_background": "light"
     },
     "output_type": "display_data"
    },
    {
     "name": "stdout",
     "output_type": "stream",
     "text": [
      "Epoch 3\n"
     ]
    },
    {
     "data": {
      "image/png": "[encoded data removed]",
      "text/plain": [
       "<Figure size 432x288 with 2 Axes>"
      ]
     },
     "metadata": {
      "needs_background": "light"
     },
     "output_type": "display_data"
    },
    {
     "name": "stdout",
     "output_type": "stream",
     "text": [
      "Epoch 4\n"
     ]
    },
    {
     "data": {
      "image/png": "[encoded data removed]",
      "text/plain": [
       "<Figure size 432x288 with 2 Axes>"
      ]
     },
     "metadata": {
      "needs_background": "light"
     },
     "output_type": "display_data"
    }
   ],
   "source": [
    "for e in range(5):\n",
    "    print('Epoch', e)\n",
    "    batches = 0\n",
    "    for x_batch, y_batch in data_gen:\n",
    "        #print(np.max(x_batch))\n",
    "        for i in range(0, 2):\n",
    "            plt.subplot(330+1 + i)\n",
    "            plt.imshow(y_batch[i], cmap=plt.get_cmap('gray'))\n",
    "        \n",
    "\n",
    "        plt.show()\n",
    "        \n",
    "        break"
   ]
  },
  {
   "cell_type": "code",
   "execution_count": 13,
   "metadata": {},
   "outputs": [
    {
     "name": "stdout",
     "output_type": "stream",
     "text": [
      "Model: \"model\"\n",
      "__________________________________________________________________________________________________\n",
      "Layer (type)                    Output Shape         Param #     Connected to                     \n",
      "==================================================================================================\n",
      "input_1 (InputLayer)            [(None, 256, 256, 1) 0                                            \n",
      "__________________________________________________________________________________________________\n",
      "conv2d (Conv2D)                 (None, 256, 256, 64) 640         input_1[0][0]                    \n",
      "__________________________________________________________________________________________________\n",
      "batch_normalization (BatchNorma (None, 256, 256, 64) 256         conv2d[0][0]                     \n",
      "__________________________________________________________________________________________________\n",
      "conv2d_1 (Conv2D)               (None, 256, 256, 64) 36928       batch_normalization[0][0]        \n",
      "__________________________________________________________________________________________________\n",
      "batch_normalization_1 (BatchNor (None, 256, 256, 64) 256         conv2d_1[0][0]                   \n",
      "__________________________________________________________________________________________________\n",
      "max_pooling2d (MaxPooling2D)    (None, 128, 128, 64) 0           batch_normalization_1[0][0]      \n",
      "__________________________________________________________________________________________________\n",
      "conv2d_2 (Conv2D)               (None, 128, 128, 128 73856       max_pooling2d[0][0]              \n",
      "__________________________________________________________________________________________________\n",
      "batch_normalization_2 (BatchNor (None, 128, 128, 128 512         conv2d_2[0][0]                   \n",
      "__________________________________________________________________________________________________\n",
      "conv2d_3 (Conv2D)               (None, 128, 128, 128 147584      batch_normalization_2[0][0]      \n",
      "__________________________________________________________________________________________________\n",
      "batch_normalization_3 (BatchNor (None, 128, 128, 128 512         conv2d_3[0][0]                   \n",
      "__________________________________________________________________________________________________\n",
      "max_pooling2d_1 (MaxPooling2D)  (None, 64, 64, 128)  0           batch_normalization_3[0][0]      \n",
      "__________________________________________________________________________________________________\n",
      "conv2d_4 (Conv2D)               (None, 64, 64, 256)  295168      max_pooling2d_1[0][0]            \n",
      "__________________________________________________________________________________________________\n",
      "batch_normalization_4 (BatchNor (None, 64, 64, 256)  1024        conv2d_4[0][0]                   \n",
      "__________________________________________________________________________________________________\n",
      "conv2d_5 (Conv2D)               (None, 64, 64, 256)  590080      batch_normalization_4[0][0]      \n",
      "__________________________________________________________________________________________________\n",
      "batch_normalization_5 (BatchNor (None, 64, 64, 256)  1024        conv2d_5[0][0]                   \n",
      "__________________________________________________________________________________________________\n",
      "max_pooling2d_2 (MaxPooling2D)  (None, 32, 32, 256)  0           batch_normalization_5[0][0]      \n",
      "__________________________________________________________________________________________________\n",
      "conv2d_6 (Conv2D)               (None, 32, 32, 512)  1180160     max_pooling2d_2[0][0]            \n",
      "__________________________________________________________________________________________________\n",
      "batch_normalization_6 (BatchNor (None, 32, 32, 512)  2048        conv2d_6[0][0]                   \n",
      "__________________________________________________________________________________________________\n",
      "conv2d_7 (Conv2D)               (None, 32, 32, 512)  2359808     batch_normalization_6[0][0]      \n",
      "__________________________________________________________________________________________________\n",
      "batch_normalization_7 (BatchNor (None, 32, 32, 512)  2048        conv2d_7[0][0]                   \n",
      "__________________________________________________________________________________________________\n",
      "dropout (Dropout)               (None, 32, 32, 512)  0           batch_normalization_7[0][0]      \n",
      "__________________________________________________________________________________________________\n",
      "max_pooling2d_3 (MaxPooling2D)  (None, 16, 16, 512)  0           dropout[0][0]                    \n",
      "__________________________________________________________________________________________________\n",
      "conv2d_8 (Conv2D)               (None, 16, 16, 1024) 4719616     max_pooling2d_3[0][0]            \n",
      "__________________________________________________________________________________________________\n",
      "batch_normalization_8 (BatchNor (None, 16, 16, 1024) 4096        conv2d_8[0][0]                   \n",
      "__________________________________________________________________________________________________\n",
      "conv2d_9 (Conv2D)               (None, 16, 16, 1024) 9438208     batch_normalization_8[0][0]      \n",
      "__________________________________________________________________________________________________\n",
      "batch_normalization_9 (BatchNor (None, 16, 16, 1024) 4096        conv2d_9[0][0]                   \n",
      "__________________________________________________________________________________________________\n",
      "dropout_1 (Dropout)             (None, 16, 16, 1024) 0           batch_normalization_9[0][0]      \n",
      "__________________________________________________________________________________________________\n",
      "up_sampling2d (UpSampling2D)    (None, 32, 32, 1024) 0           dropout_1[0][0]                  \n",
      "__________________________________________________________________________________________________\n",
      "conv2d_10 (Conv2D)              (None, 32, 32, 512)  2097664     up_sampling2d[0][0]              \n",
      "__________________________________________________________________________________________________\n",
      "concatenate (Concatenate)       (None, 32, 32, 1024) 0           dropout[0][0]                    \n",
      "                                                                 conv2d_10[0][0]                  \n",
      "__________________________________________________________________________________________________\n",
      "conv2d_11 (Conv2D)              (None, 32, 32, 512)  4719104     concatenate[0][0]                \n",
      "__________________________________________________________________________________________________\n",
      "conv2d_12 (Conv2D)              (None, 32, 32, 512)  2359808     conv2d_11[0][0]                  \n",
      "__________________________________________________________________________________________________\n",
      "up_sampling2d_1 (UpSampling2D)  (None, 64, 64, 512)  0           conv2d_12[0][0]                  \n",
      "__________________________________________________________________________________________________\n",
      "conv2d_13 (Conv2D)              (None, 64, 64, 256)  524544      up_sampling2d_1[0][0]            \n",
      "__________________________________________________________________________________________________\n",
      "concatenate_1 (Concatenate)     (None, 64, 64, 512)  0           batch_normalization_5[0][0]      \n",
      "                                                                 conv2d_13[0][0]                  \n",
      "__________________________________________________________________________________________________\n",
      "conv2d_14 (Conv2D)              (None, 64, 64, 256)  1179904     concatenate_1[0][0]              \n",
      "__________________________________________________________________________________________________\n",
      "conv2d_15 (Conv2D)              (None, 64, 64, 256)  590080      conv2d_14[0][0]                  \n",
      "__________________________________________________________________________________________________\n",
      "up_sampling2d_2 (UpSampling2D)  (None, 128, 128, 256 0           conv2d_15[0][0]                  \n",
      "__________________________________________________________________________________________________\n",
      "conv2d_16 (Conv2D)              (None, 128, 128, 128 131200      up_sampling2d_2[0][0]            \n",
      "__________________________________________________________________________________________________\n",
      "concatenate_2 (Concatenate)     (None, 128, 128, 256 0           batch_normalization_3[0][0]      \n",
      "                                                                 conv2d_16[0][0]                  \n",
      "__________________________________________________________________________________________________\n",
      "conv2d_17 (Conv2D)              (None, 128, 128, 128 295040      concatenate_2[0][0]              \n",
      "__________________________________________________________________________________________________\n",
      "conv2d_18 (Conv2D)              (None, 128, 128, 128 147584      conv2d_17[0][0]                  \n",
      "__________________________________________________________________________________________________\n",
      "up_sampling2d_3 (UpSampling2D)  (None, 256, 256, 128 0           conv2d_18[0][0]                  \n",
      "__________________________________________________________________________________________________\n",
      "conv2d_19 (Conv2D)              (None, 256, 256, 64) 32832       up_sampling2d_3[0][0]            \n",
      "__________________________________________________________________________________________________\n",
      "concatenate_3 (Concatenate)     (None, 256, 256, 128 0           batch_normalization_1[0][0]      \n",
      "                                                                 conv2d_19[0][0]                  \n",
      "__________________________________________________________________________________________________\n",
      "conv2d_20 (Conv2D)              (None, 256, 256, 64) 73792       concatenate_3[0][0]              \n",
      "__________________________________________________________________________________________________\n",
      "conv2d_21 (Conv2D)              (None, 256, 256, 64) 36928       conv2d_20[0][0]                  \n",
      "__________________________________________________________________________________________________\n",
      "conv2d_22 (Conv2D)              (None, 256, 256, 1)  65          conv2d_21[0][0]                  \n",
      "==================================================================================================\n",
      "Total params: 31,046,465\n",
      "Trainable params: 31,038,529\n",
      "Non-trainable params: 7,936\n",
      "__________________________________________________________________________________________________\n"
     ]
    }
   ],
   "source": [
    "#Step 2: Initialize the model. Train from scratch!\n",
    "model = unet()\n",
    "model.summary()"
   ]
  },
  {
   "cell_type": "code",
   "execution_count": 14,
   "metadata": {},
   "outputs": [],
   "source": [
    "#Step 3: Initialize Tensorboard to monitor changes in Model Loss \n",
    "import datetime\n",
    "%load_ext tensorboard\n",
    "log_dir = \"logs/fit/\" + datetime.datetime.now().strftime(\"%Y%m%d-%H%M%S\")\n",
    "tensorboard_callback = tf.keras.callbacks.TensorBoard(log_dir=log_dir, histogram_freq=1)"
   ]
  },
  {
   "cell_type": "code",
   "execution_count": 15,
   "metadata": {
    "scrolled": true
   },
   "outputs": [
    {
     "data": {
      "text/html": [
       "\n",
       "      <iframe id=\"tensorboard-frame-523ceb21f917af5b\" width=\"100%\" height=\"800\" frameborder=\"0\">\n",
       "      </iframe>\n",
       "      <script>\n",
       "        (function() {\n",
       "          const frame = document.getElementById(\"tensorboard-frame-523ceb21f917af5b\");\n",
       "          const url = new URL(\"/\", window.location);\n",
       "          url.port = 6006;\n",
       "          frame.src = url;\n",
       "        })();\n",
       "      </script>\n",
       "  "
      ],
      "text/plain": [
       "<IPython.core.display.HTML object>"
      ]
     },
     "metadata": {},
     "output_type": "display_data"
    }
   ],
   "source": [
    "#Visualize on tensorboard (move this above)\n",
    "%tensorboard --logdir logs/fit"
   ]
  },
  {
   "cell_type": "code",
   "execution_count": 16,
   "metadata": {
    "scrolled": true
   },
   "outputs": [
    {
     "name": "stdout",
     "output_type": "stream",
     "text": [
      "Epoch 1/60\n",
      "20/20 [==============================] - 59s 3s/step - loss: -0.2190 - dice_coef: 0.2190\n",
      "Epoch 2/60\n",
      "20/20 [==============================] - 61s 3s/step - loss: -0.2664 - dice_coef: 0.2664\n",
      "Epoch 3/60\n",
      "20/20 [==============================] - 61s 3s/step - loss: -0.2644 - dice_coef: 0.2644\n",
      "Epoch 4/60\n",
      "20/20 [==============================] - 61s 3s/step - loss: -0.2721 - dice_coef: 0.2721\n",
      "Epoch 5/60\n",
      "20/20 [==============================] - 61s 3s/step - loss: -0.2429 - dice_coef: 0.2429\n",
      "Epoch 6/60\n",
      "20/20 [==============================] - 61s 3s/step - loss: -0.2834 - dice_coef: 0.2834\n",
      "Epoch 7/60\n",
      "20/20 [==============================] - 61s 3s/step - loss: -0.2703 - dice_coef: 0.2703\n",
      "Epoch 8/60\n",
      "20/20 [==============================] - 61s 3s/step - loss: -0.2830 - dice_coef: 0.2830\n",
      "Epoch 9/60\n",
      "20/20 [==============================] - 61s 3s/step - loss: -0.2972 - dice_coef: 0.2972\n",
      "Epoch 10/60\n",
      "20/20 [==============================] - 61s 3s/step - loss: -0.2895 - dice_coef: 0.2895\n",
      "Epoch 11/60\n",
      "20/20 [==============================] - 61s 3s/step - loss: -0.2888 - dice_coef: 0.2888\n",
      "Epoch 12/60\n",
      "20/20 [==============================] - 61s 3s/step - loss: -0.3010 - dice_coef: 0.3010\n",
      "Epoch 13/60\n",
      "20/20 [==============================] - 61s 3s/step - loss: -0.2799 - dice_coef: 0.2799\n",
      "Epoch 14/60\n",
      "20/20 [==============================] - 61s 3s/step - loss: -0.2852 - dice_coef: 0.2852\n",
      "Epoch 15/60\n",
      "20/20 [==============================] - 61s 3s/step - loss: -0.3001 - dice_coef: 0.3001\n",
      "Epoch 16/60\n",
      "20/20 [==============================] - 61s 3s/step - loss: -0.2967 - dice_coef: 0.2967\n",
      "Epoch 17/60\n",
      "20/20 [==============================] - 61s 3s/step - loss: -0.3075 - dice_coef: 0.3075\n",
      "Epoch 18/60\n",
      "20/20 [==============================] - 61s 3s/step - loss: -0.3095 - dice_coef: 0.3095\n",
      "Epoch 19/60\n",
      "20/20 [==============================] - 61s 3s/step - loss: -0.3301 - dice_coef: 0.3301\n",
      "Epoch 20/60\n",
      "20/20 [==============================] - 61s 3s/step - loss: -0.3312 - dice_coef: 0.3312\n",
      "Epoch 21/60\n",
      "20/20 [==============================] - 61s 3s/step - loss: -0.3380 - dice_coef: 0.3380\n",
      "Epoch 22/60\n",
      "20/20 [==============================] - 61s 3s/step - loss: -0.3211 - dice_coef: 0.3211\n",
      "Epoch 23/60\n",
      "20/20 [==============================] - 61s 3s/step - loss: -0.3349 - dice_coef: 0.3349\n",
      "Epoch 24/60\n",
      "20/20 [==============================] - 61s 3s/step - loss: -0.3353 - dice_coef: 0.3353\n",
      "Epoch 25/60\n",
      "20/20 [==============================] - 61s 3s/step - loss: -0.3598 - dice_coef: 0.3598\n",
      "Epoch 26/60\n",
      "20/20 [==============================] - 61s 3s/step - loss: -0.4039 - dice_coef: 0.4039\n",
      "Epoch 27/60\n",
      "20/20 [==============================] - 61s 3s/step - loss: -0.3835 - dice_coef: 0.3835\n",
      "Epoch 28/60\n",
      "20/20 [==============================] - 61s 3s/step - loss: -0.3954 - dice_coef: 0.3954\n",
      "Epoch 29/60\n",
      "20/20 [==============================] - 61s 3s/step - loss: -0.3796 - dice_coef: 0.3796\n",
      "Epoch 30/60\n",
      "20/20 [==============================] - 61s 3s/step - loss: -0.4085 - dice_coef: 0.4085\n",
      "Epoch 31/60\n",
      "20/20 [==============================] - 61s 3s/step - loss: -0.4043 - dice_coef: 0.4043\n",
      "Epoch 32/60\n",
      "20/20 [==============================] - 61s 3s/step - loss: -0.4388 - dice_coef: 0.4388\n",
      "Epoch 33/60\n",
      "20/20 [==============================] - 61s 3s/step - loss: -0.4734 - dice_coef: 0.4734\n",
      "Epoch 34/60\n",
      "20/20 [==============================] - 62s 3s/step - loss: -0.4666 - dice_coef: 0.4666\n",
      "Epoch 35/60\n",
      "20/20 [==============================] - 61s 3s/step - loss: -0.5150 - dice_coef: 0.5150\n",
      "Epoch 36/60\n",
      "20/20 [==============================] - 61s 3s/step - loss: -0.5110 - dice_coef: 0.5110\n",
      "Epoch 37/60\n",
      "20/20 [==============================] - 61s 3s/step - loss: -0.5572 - dice_coef: 0.5572\n",
      "Epoch 38/60\n",
      "20/20 [==============================] - 61s 3s/step - loss: -0.5443 - dice_coef: 0.5443\n",
      "Epoch 39/60\n",
      "20/20 [==============================] - 61s 3s/step - loss: -0.5625 - dice_coef: 0.5625\n",
      "Epoch 40/60\n",
      "20/20 [==============================] - 61s 3s/step - loss: -0.5541 - dice_coef: 0.5541\n",
      "Epoch 41/60\n",
      "20/20 [==============================] - 61s 3s/step - loss: -0.5175 - dice_coef: 0.5175\n",
      "Epoch 42/60\n",
      "20/20 [==============================] - 61s 3s/step - loss: -0.5795 - dice_coef: 0.5795\n",
      "Epoch 43/60\n",
      "20/20 [==============================] - 61s 3s/step - loss: -0.5622 - dice_coef: 0.5622\n",
      "Epoch 44/60\n",
      "20/20 [==============================] - 62s 3s/step - loss: -0.5980 - dice_coef: 0.5980\n",
      "Epoch 45/60\n",
      "20/20 [==============================] - 61s 3s/step - loss: -0.5974 - dice_coef: 0.5974\n",
      "Epoch 46/60\n",
      "20/20 [==============================] - 61s 3s/step - loss: -0.5714 - dice_coef: 0.5714\n",
      "Epoch 47/60\n",
      "20/20 [==============================] - 61s 3s/step - loss: -0.5935 - dice_coef: 0.5935\n",
      "Epoch 48/60\n",
      "20/20 [==============================] - 61s 3s/step - loss: -0.5960 - dice_coef: 0.5960\n",
      "Epoch 49/60\n",
      "20/20 [==============================] - 61s 3s/step - loss: -0.6144 - dice_coef: 0.6144\n",
      "Epoch 50/60\n",
      "20/20 [==============================] - 61s 3s/step - loss: -0.5761 - dice_coef: 0.5761\n",
      "Epoch 51/60\n",
      "20/20 [==============================] - 61s 3s/step - loss: -0.6435 - dice_coef: 0.6435\n",
      "Epoch 52/60\n",
      "20/20 [==============================] - 61s 3s/step - loss: -0.6637 - dice_coef: 0.6637\n",
      "Epoch 53/60\n",
      "20/20 [==============================] - 61s 3s/step - loss: -0.6320 - dice_coef: 0.6320\n",
      "Epoch 54/60\n",
      "20/20 [==============================] - 61s 3s/step - loss: -0.6333 - dice_coef: 0.6333\n",
      "Epoch 55/60\n",
      "20/20 [==============================] - 61s 3s/step - loss: -0.6328 - dice_coef: 0.6328\n",
      "Epoch 56/60\n",
      "20/20 [==============================] - 61s 3s/step - loss: -0.6295 - dice_coef: 0.6295\n",
      "Epoch 57/60\n",
      "20/20 [==============================] - 61s 3s/step - loss: -0.6661 - dice_coef: 0.6661\n",
      "Epoch 58/60\n",
      "20/20 [==============================] - 61s 3s/step - loss: -0.6562 - dice_coef: 0.6562\n",
      "Epoch 59/60\n",
      "20/20 [==============================] - 61s 3s/step - loss: -0.6571 - dice_coef: 0.6571\n",
      "Epoch 60/60\n",
      "20/20 [==============================] - 61s 3s/step - loss: -0.6527 - dice_coef: 0.6527\n"
     ]
    },
    {
     "data": {
      "text/plain": [
       "<tensorflow.python.keras.callbacks.History at 0x7f32b027a6d0>"
      ]
     },
     "execution_count": 16,
     "metadata": {},
     "output_type": "execute_result"
    }
   ],
   "source": [
    "#Step 4: Fit the u-net model\n",
    "#model_checkpoint = tf.keras.callbacks.ModelCheckpoint('unet_DB1_bin.hdf5', monitor='loss',verbose=0)# save_best_only=True)\n",
    "model.fit(data_gen,steps_per_epoch=20,epochs=60,verbose=1,callbacks=[tensorboard_callback])#,model_checkpoint])"
   ]
  },
  {
   "cell_type": "markdown",
   "metadata": {},
   "source": [
    "# Final trained model is saved as unet_DB1.hdf5\n",
    "# C. Run the trained model on test images and save the outputs, and evaluate pixel-level segmentation performance "
   ]
  },
  {
   "cell_type": "code",
   "execution_count": 17,
   "metadata": {
    "scrolled": true
   },
   "outputs": [
    {
     "name": "stdout",
     "output_type": "stream",
     "text": [
      "WARNING:tensorflow:From <ipython-input-17-c47c3d922e76>:7: Model.predict_generator (from tensorflow.python.keras.engine.training) is deprecated and will be removed in a future version.\n",
      "Instructions for updating:\n",
      "Please use Model.predict, which supports generators.\n",
      "image028.png\n",
      "image029.png\n",
      " 1/62 [..............................] - ETA: 0simage030.png\n",
      " 2/62 [..............................] - ETA: 6simage031.png\n",
      " 3/62 [>.............................] - ETA: 9simage032.png\n",
      " 4/62 [>.............................] - ETA: 10simage033.png\n",
      " 5/62 [=>............................] - ETA: 10simage034.png\n",
      " 6/62 [=>............................] - ETA: 10simage035.png\n",
      " 7/62 [==>...........................] - ETA: 11simage036.png\n",
      " 8/62 [==>...........................] - ETA: 11simage037.png\n",
      " 9/62 [===>..........................] - ETA: 11simage038.png\n",
      "10/62 [===>..........................] - ETA: 11simage039.png\n",
      "11/62 [====>.........................] - ETA: 11simage040.png\n",
      "12/62 [====>.........................] - ETA: 11simage041.png\n",
      "13/62 [=====>........................] - ETA: 11simage042.png\n",
      "14/62 [=====>........................] - ETA: 11simage043.png\n",
      "15/62 [======>.......................] - ETA: 11simage044.png\n",
      "16/62 [======>.......................] - ETA: 11simage045.png\n",
      "17/62 [=======>......................] - ETA: 10simage046.png\n",
      "18/62 [=======>......................] - ETA: 10simage047.png\n",
      "19/62 [========>.....................] - ETA: 10simage048.png\n",
      "20/62 [========>.....................] - ETA: 10simage049.png\n",
      "21/62 [=========>....................] - ETA: 10simage050.png\n",
      "22/62 [=========>....................] - ETA: 9s image051.png\n",
      "23/62 [==========>...................] - ETA: 9simage052.png\n",
      "24/62 [==========>...................] - ETA: 9simage053.png\n",
      "25/62 [===========>..................] - ETA: 9simage054.png\n",
      "26/62 [===========>..................] - ETA: 9simage055.png\n",
      "27/62 [============>.................] - ETA: 8simage056.png\n",
      "28/62 [============>.................] - ETA: 8simage057.png\n",
      "29/62 [=============>................] - ETA: 8simage058.png\n",
      "30/62 [=============>................] - ETA: 8simage059.png\n",
      "31/62 [==============>...............] - ETA: 7simage060.png\n",
      "32/62 [==============>...............] - ETA: 7simage061.png\n",
      "33/62 [==============>...............] - ETA: 7simage062.png\n",
      "34/62 [===============>..............] - ETA: 7simage063.png\n",
      "35/62 [===============>..............] - ETA: 6simage064.png\n",
      "36/62 [================>.............] - ETA: 6simage065.png\n",
      "37/62 [================>.............] - ETA: 6simage066.png\n",
      "38/62 [=================>............] - ETA: 6simage067.png\n",
      "39/62 [=================>............] - ETA: 5simage068.png\n",
      "40/62 [==================>...........] - ETA: 5simage069.png\n",
      "41/62 [==================>...........] - ETA: 5simage070.png\n",
      "42/62 [===================>..........] - ETA: 5simage071.png\n",
      "43/62 [===================>..........] - ETA: 4simage072.png\n",
      "44/62 [====================>.........] - ETA: 4simage073.png\n",
      "45/62 [====================>.........] - ETA: 4simage074.png\n",
      "46/62 [=====================>........] - ETA: 4simage075.png\n",
      "47/62 [=====================>........] - ETA: 3simage076.png\n",
      "48/62 [======================>.......] - ETA: 3simage077.png\n",
      "49/62 [======================>.......] - ETA: 3simage078.png\n",
      "50/62 [=======================>......] - ETA: 3simage079.png\n",
      "51/62 [=======================>......] - ETA: 2simage080.png\n",
      "52/62 [========================>.....] - ETA: 2simage081.png\n",
      "53/62 [========================>.....] - ETA: 2simage082.png\n",
      "54/62 [=========================>....] - ETA: 2simage083.png\n",
      "55/62 [=========================>....] - ETA: 1simage084.png\n",
      "56/62 [==========================>...] - ETA: 1simage085.png\n",
      "57/62 [==========================>...] - ETA: 1simage086.png\n",
      "58/62 [===========================>..] - ETA: 1simage087.png\n",
      "59/62 [===========================>..] - ETA: 0simage088.png\n",
      "60/62 [============================>.] - ETA: 0simage089.png\n",
      "62/62 [==============================] - 16s 263ms/step\n"
     ]
    }
   ],
   "source": [
    "#Step 1: Run model on test images and save the images\n",
    "#number of test images\n",
    "n_i=len(os.listdir('./test/images/'))\n",
    "#Call test generator\n",
    "test_gen = testGenerator('./test/images/')\n",
    "#Return model outcome for each test image\n",
    "results = model.predict_generator(test_gen,n_i,verbose=1)"
   ]
  },
  {
   "cell_type": "code",
   "execution_count": 18,
   "metadata": {},
   "outputs": [
    {
     "name": "stderr",
     "output_type": "stream",
     "text": [
      "Lossy conversion from float64 to uint8. Range [0, 1]. Convert image to uint8 prior to saving to suppress this warning.\n",
      "Lossy conversion from float64 to uint8. Range [0, 1]. Convert image to uint8 prior to saving to suppress this warning.\n",
      "Lossy conversion from float64 to uint8. Range [0, 1]. Convert image to uint8 prior to saving to suppress this warning.\n",
      "Lossy conversion from float64 to uint8. Range [0, 1]. Convert image to uint8 prior to saving to suppress this warning.\n",
      "Lossy conversion from float64 to uint8. Range [0, 1]. Convert image to uint8 prior to saving to suppress this warning.\n",
      "Lossy conversion from float64 to uint8. Range [0, 1]. Convert image to uint8 prior to saving to suppress this warning.\n",
      "Lossy conversion from float64 to uint8. Range [0, 1]. Convert image to uint8 prior to saving to suppress this warning.\n",
      "Lossy conversion from float64 to uint8. Range [0, 1]. Convert image to uint8 prior to saving to suppress this warning.\n",
      "Lossy conversion from float64 to uint8. Range [0, 1]. Convert image to uint8 prior to saving to suppress this warning.\n",
      "Lossy conversion from float64 to uint8. Range [0, 1]. Convert image to uint8 prior to saving to suppress this warning.\n",
      "Lossy conversion from float64 to uint8. Range [0, 1]. Convert image to uint8 prior to saving to suppress this warning.\n",
      "Lossy conversion from float64 to uint8. Range [0, 1]. Convert image to uint8 prior to saving to suppress this warning.\n",
      "Lossy conversion from float64 to uint8. Range [0, 1]. Convert image to uint8 prior to saving to suppress this warning.\n",
      "Lossy conversion from float64 to uint8. Range [0, 1]. Convert image to uint8 prior to saving to suppress this warning.\n",
      "Lossy conversion from float64 to uint8. Range [0, 1]. Convert image to uint8 prior to saving to suppress this warning.\n",
      "Lossy conversion from float64 to uint8. Range [0, 1]. Convert image to uint8 prior to saving to suppress this warning.\n",
      "Lossy conversion from float64 to uint8. Range [0, 1]. Convert image to uint8 prior to saving to suppress this warning.\n",
      "Lossy conversion from float64 to uint8. Range [0, 1]. Convert image to uint8 prior to saving to suppress this warning.\n",
      "Lossy conversion from float64 to uint8. Range [0, 1]. Convert image to uint8 prior to saving to suppress this warning.\n",
      "Lossy conversion from float64 to uint8. Range [0, 1]. Convert image to uint8 prior to saving to suppress this warning.\n",
      "Lossy conversion from float64 to uint8. Range [0, 1]. Convert image to uint8 prior to saving to suppress this warning.\n",
      "Lossy conversion from float64 to uint8. Range [0, 1]. Convert image to uint8 prior to saving to suppress this warning.\n",
      "Lossy conversion from float64 to uint8. Range [0, 1]. Convert image to uint8 prior to saving to suppress this warning.\n",
      "Lossy conversion from float64 to uint8. Range [0, 1]. Convert image to uint8 prior to saving to suppress this warning.\n",
      "Lossy conversion from float64 to uint8. Range [0, 1]. Convert image to uint8 prior to saving to suppress this warning.\n",
      "Lossy conversion from float64 to uint8. Range [0, 1]. Convert image to uint8 prior to saving to suppress this warning.\n",
      "Lossy conversion from float64 to uint8. Range [0, 1]. Convert image to uint8 prior to saving to suppress this warning.\n",
      "Lossy conversion from float64 to uint8. Range [0, 1]. Convert image to uint8 prior to saving to suppress this warning.\n",
      "Lossy conversion from float64 to uint8. Range [0, 1]. Convert image to uint8 prior to saving to suppress this warning.\n",
      "Lossy conversion from float64 to uint8. Range [0, 1]. Convert image to uint8 prior to saving to suppress this warning.\n",
      "Lossy conversion from float64 to uint8. Range [0, 1]. Convert image to uint8 prior to saving to suppress this warning.\n",
      "Lossy conversion from float64 to uint8. Range [0, 1]. Convert image to uint8 prior to saving to suppress this warning.\n",
      "Lossy conversion from float64 to uint8. Range [0, 1]. Convert image to uint8 prior to saving to suppress this warning.\n",
      "Lossy conversion from float64 to uint8. Range [0, 1]. Convert image to uint8 prior to saving to suppress this warning.\n",
      "Lossy conversion from float64 to uint8. Range [0, 1]. Convert image to uint8 prior to saving to suppress this warning.\n",
      "Lossy conversion from float64 to uint8. Range [0, 1]. Convert image to uint8 prior to saving to suppress this warning.\n",
      "Lossy conversion from float64 to uint8. Range [0, 1]. Convert image to uint8 prior to saving to suppress this warning.\n",
      "Lossy conversion from float64 to uint8. Range [0, 1]. Convert image to uint8 prior to saving to suppress this warning.\n",
      "Lossy conversion from float64 to uint8. Range [0, 1]. Convert image to uint8 prior to saving to suppress this warning.\n",
      "Lossy conversion from float64 to uint8. Range [0, 1]. Convert image to uint8 prior to saving to suppress this warning.\n",
      "Lossy conversion from float64 to uint8. Range [0, 1]. Convert image to uint8 prior to saving to suppress this warning.\n",
      "Lossy conversion from float64 to uint8. Range [0, 1]. Convert image to uint8 prior to saving to suppress this warning.\n",
      "Lossy conversion from float64 to uint8. Range [0, 1]. Convert image to uint8 prior to saving to suppress this warning.\n",
      "Lossy conversion from float64 to uint8. Range [0, 1]. Convert image to uint8 prior to saving to suppress this warning.\n",
      "Lossy conversion from float64 to uint8. Range [0, 1]. Convert image to uint8 prior to saving to suppress this warning.\n",
      "Lossy conversion from float64 to uint8. Range [0, 1]. Convert image to uint8 prior to saving to suppress this warning.\n",
      "Lossy conversion from float64 to uint8. Range [0, 1]. Convert image to uint8 prior to saving to suppress this warning.\n",
      "Lossy conversion from float64 to uint8. Range [0, 1]. Convert image to uint8 prior to saving to suppress this warning.\n",
      "Lossy conversion from float64 to uint8. Range [0, 1]. Convert image to uint8 prior to saving to suppress this warning.\n",
      "Lossy conversion from float64 to uint8. Range [0, 1]. Convert image to uint8 prior to saving to suppress this warning.\n",
      "Lossy conversion from float64 to uint8. Range [0, 1]. Convert image to uint8 prior to saving to suppress this warning.\n",
      "Lossy conversion from float64 to uint8. Range [0, 1]. Convert image to uint8 prior to saving to suppress this warning.\n",
      "Lossy conversion from float64 to uint8. Range [0, 1]. Convert image to uint8 prior to saving to suppress this warning.\n",
      "Lossy conversion from float64 to uint8. Range [0, 1]. Convert image to uint8 prior to saving to suppress this warning.\n",
      "Lossy conversion from float64 to uint8. Range [0, 1]. Convert image to uint8 prior to saving to suppress this warning.\n",
      "Lossy conversion from float64 to uint8. Range [0, 1]. Convert image to uint8 prior to saving to suppress this warning.\n",
      "Lossy conversion from float64 to uint8. Range [0, 1]. Convert image to uint8 prior to saving to suppress this warning.\n",
      "Lossy conversion from float64 to uint8. Range [0, 1]. Convert image to uint8 prior to saving to suppress this warning.\n",
      "Lossy conversion from float64 to uint8. Range [0, 1]. Convert image to uint8 prior to saving to suppress this warning.\n",
      "Lossy conversion from float64 to uint8. Range [0, 1]. Convert image to uint8 prior to saving to suppress this warning.\n",
      "Lossy conversion from float64 to uint8. Range [0, 1]. Convert image to uint8 prior to saving to suppress this warning.\n",
      "Lossy conversion from float64 to uint8. Range [0, 1]. Convert image to uint8 prior to saving to suppress this warning.\n"
     ]
    }
   ],
   "source": [
    "#saveResult('./test/images/',PATH+'pred/',results)\n",
    "SaveResultwImage('./test/images/',PATH+'pred/',results)"
   ]
  },
  {
   "cell_type": "code",
   "execution_count": 19,
   "metadata": {},
   "outputs": [
    {
     "name": "stdout",
     "output_type": "stream",
     "text": [
      "Precision= 0.15974676632177165 Recall= 0.14877634261539646 IoU= 0.09089278030868661 acc= 0.9795874318768901 F1= 0.12965776109622235\n"
     ]
    }
   ],
   "source": [
    "evalResult('./test/GT/',results)"
   ]
  },
  {
   "cell_type": "markdown",
   "metadata": {},
   "source": [
    "# Now we have replicated code for binary semantic segmentation for hemorrhages, specifically. Next, lets look at multi-class"
   ]
  }
 ],
 "metadata": {
  "kernelspec": {
   "display_name": "Python 3",
   "language": "python",
   "name": "python3"
  },
  "language_info": {
   "codemirror_mode": {
    "name": "ipython",
    "version": 3
   },
   "file_extension": ".py",
   "mimetype": "text/x-python",
   "name": "python",
   "nbconvert_exporter": "python",
   "pygments_lexer": "ipython3",
   "version": "3.8.5"
  }
 },
 "nbformat": 4,
 "nbformat_minor": 4
}
